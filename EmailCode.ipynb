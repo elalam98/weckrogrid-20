{
 "cells": [
  {
   "cell_type": "code",
   "execution_count": 2,
   "metadata": {},
   "outputs": [],
   "source": [
    "import email, smtplib, ssl\n",
    "import os\n",
    "from email import encoders\n",
    "from email.mime.base import MIMEBase\n",
    "from email.mime.multipart import MIMEMultipart\n",
    "from email.mime.text import MIMEText\n",
    "from email.mime.image import MIMEImage\n",
    "\n",
    "#body = \"\"\"                    Attached are your results! \n",
    "\n",
    "#Feel free to reply to this message if you have any questions.\n",
    "#        We look forward to working with you soon.\n",
    "\n",
    "#            Thank you for using Weckrogrid-20!                      \"\"\"\n",
    "sender_email = \"WeckroGrid-20\"\n",
    "receiver_email = \"elalam98@gmail.com\"\n",
    "\n",
    "# Create a multipart message and set headers\n",
    "message = MIMEMultipart()\n",
    "message[\"From\"] = 'WeckroGrid-20'\n",
    "#message[\"To\"] = 'elalam98@gmail.com'\n",
    "message[\"Subject\"] = 'Your Microgrid Plan is here!'\n",
    "#message[\"Bcc\"] = 'receiver_email'  # Recommended for mass emails\n",
    "\n",
    "# Add body to email\n",
    "#message.attach(MIMEText(body, \"plain\"))\n",
    "\n",
    "filename = \"dummy.pdf\"  # In same directory as script\n",
    "\n",
    "# Open PDF file in binary mode\n",
    "with open(filename, \"rb\") as attachment:\n",
    "    # Add file as application/octet-stream\n",
    "    # Email client can usually download this automatically as attachment\n",
    "    part = MIMEBase(\"application\", \"octet-stream\")\n",
    "    part.set_payload(attachment.read())\n",
    "\n",
    "# Encode file in ASCII characters to send by email    \n",
    "encoders.encode_base64(part)\n",
    "\n",
    "# Add header as key/value pair to attachment part\n",
    "part.add_header(\n",
    "    \"Content-Disposition\",\n",
    "    f\"attachment; filename= {filename}\",\n",
    ")\n",
    "#Add attachment to message and convert message to string\n",
    "message.attach(part)\n",
    "text = message.as_string('')\n",
    "\n",
    "# Log in to server using secure context and send email\n",
    "context = ssl.create_default_context()\n",
    "with smtplib.SMTP_SSL(\"smtp.gmail.com\", 465, context=context) as server:\n",
    "    server.login('Weckrogrid20@gmail.com', 'jafari1234')\n",
    "    server.sendmail(sender_email, receiver_email, text)"
   ]
  },
  {
   "cell_type": "code",
   "execution_count": null,
   "metadata": {},
   "outputs": [],
   "source": []
  },
  {
   "cell_type": "code",
   "execution_count": null,
   "metadata": {},
   "outputs": [],
   "source": []
  }
 ],
 "metadata": {
  "kernelspec": {
   "display_name": "Python 3",
   "language": "python",
   "name": "python3"
  },
  "language_info": {
   "codemirror_mode": {
    "name": "ipython",
    "version": 3
   },
   "file_extension": ".py",
   "mimetype": "text/x-python",
   "name": "python",
   "nbconvert_exporter": "python",
   "pygments_lexer": "ipython3",
   "version": "3.8.5"
  }
 },
 "nbformat": 4,
 "nbformat_minor": 4
}
